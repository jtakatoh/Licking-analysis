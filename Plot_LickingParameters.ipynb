{
 "cells": [
  {
   "cell_type": "markdown",
   "metadata": {},
   "source": [
    "Command + Shhift + P: select interpreter > python37\n",
    "Terminal: activate python37  "
   ]
  },
  {
   "cell_type": "code",
   "execution_count": 1,
   "metadata": {},
   "outputs": [],
   "source": [
    "# change directory\n",
    "import os\n",
    "os.chdir(\"/Users/jun/Documents/Work/Project/Licking/Analysis_Code/h5 files - hourglass_weights_jaw2.pt/Phox2b#8_TeLC\")"
   ]
  },
  {
   "cell_type": "code",
   "execution_count": 2,
   "metadata": {},
   "outputs": [],
   "source": [
    "import seaborn as sns\n",
    "import matplotlib.pyplot as plt\n",
    "import pandas as pd\n",
    "import numpy as np\n",
    "from scipy.io import loadmat"
   ]
  },
  {
   "cell_type": "code",
   "execution_count": 3,
   "metadata": {},
   "outputs": [],
   "source": [
    "Before = loadmat(\"#8_Before.mat\")\n",
    "OneWeek = loadmat(\"#8_7dps.mat\")\n",
    "After = loadmat(\"#8_After.mat\")"
   ]
  },
  {
   "cell_type": "code",
   "execution_count": 4,
   "metadata": {},
   "outputs": [],
   "source": [
    "Before = Before['Before']\n",
    "OneWeek = OneWeek['OneWeek']\n",
    "After = After['After']"
   ]
  },
  {
   "cell_type": "code",
   "execution_count": 5,
   "metadata": {},
   "outputs": [],
   "source": [
    "Before_Peaks = Before[0,0]['Peaks'];\n",
    "OneWeek_Peaks = OneWeek[0,0]['Peaks'];\n",
    "After_Peaks = After[0,0]['Peaks'];\n",
    "\n",
    "Before_Corr = Before[0,0]['Corr_lick_chew'];\n",
    "OneWeek_Corr = OneWeek[0,0]['Corr_lick_chew'];\n",
    "After_Corr = After[0,0]['Corr_lick_chew'];\n",
    "\n",
    "Before_LickFrequency = np.transpose(Before[0,0]['LickFrequency']);\n",
    "OneWeek_LickFrequency = np.transpose(OneWeek[0,0]['LickFrequency']);\n",
    "After_LickFrequency = np.transpose(After[0,0]['LickFrequency']);\n",
    "\n",
    "Before_LickPerBout = np.transpose(Before[0,0]['LickPerBout']);\n",
    "OneWeek_LickPerBout = np.transpose(OneWeek[0,0]['LickPerBout']);\n",
    "After_LickPerBout = np.transpose(After[0,0]['LickPerBout']);"
   ]
  },
  {
   "cell_type": "code",
   "execution_count": 6,
   "metadata": {},
   "outputs": [],
   "source": [
    "Before_Peaks = pd.DataFrame(data=Before_Peaks,columns=[\"Before\"])\n",
    "OneWeek_Peaks = pd.DataFrame(data=OneWeek_Peaks,columns=[\"7dps\"])\n",
    "After_Peaks = pd.DataFrame(data=After_Peaks,columns=[\"After\"])\n",
    "\n",
    "Before_Corr  = pd.DataFrame(data=Before_Corr ,columns=[\"Before\"])\n",
    "OneWeek_Corr  = pd.DataFrame(data=OneWeek_Corr ,columns=[\"7dps\"])\n",
    "After_Corr  = pd.DataFrame(data=After_Corr ,columns=[\"After\"])\n",
    "\n",
    "Before_LickFrequency  = pd.DataFrame(data=Before_LickFrequency ,columns=[\"Before\"])\n",
    "OneWeek_LickFrequency  = pd.DataFrame(data=OneWeek_LickFrequency ,columns=[\"7dps\"])\n",
    "After_LickFrequency  = pd.DataFrame(data=After_LickFrequency ,columns=[\"After\"])\n",
    "\n",
    "Before_LickPerBout  = pd.DataFrame(data=Before_LickPerBout ,columns=[\"Before\"])\n",
    "OneWeek_LickPerBout  = pd.DataFrame(data=OneWeek_LickPerBout ,columns=[\"7dps\"])\n",
    "After_LickPerBout  = pd.DataFrame(data=After_LickPerBout ,columns=[\"After\"])"
   ]
  },
  {
   "cell_type": "code",
   "execution_count": 7,
   "metadata": {},
   "outputs": [],
   "source": [
    "Peaks = Before_Peaks.join(OneWeek_Peaks)\n",
    "Peaks = Peaks.join(After_Peaks)\n",
    "\n",
    "Tongue_Jaw_Corr = Before_Corr.join(OneWeek_Corr)\n",
    "Tongue_Jaw_Corr = Tongue_Jaw_Corr.join(After_Corr)\n",
    "\n",
    "LickFrequency = Before_LickFrequency.join(OneWeek_LickFrequency)\n",
    "LickFrequency = LickFrequency.join(After_LickFrequency)\n",
    "\n",
    "LickPerBout = Before_LickPerBout.join(OneWeek_LickPerBout)\n",
    "LickPerBout = LickPerBout.join(After_LickPerBout)"
   ]
  },
  {
   "cell_type": "code",
   "execution_count": 8,
   "metadata": {},
   "outputs": [
    {
     "data": {
      "text/plain": [
       "<AxesSubplot:>"
      ]
     },
     "execution_count": 8,
     "metadata": {},
     "output_type": "execute_result"
    },
    {
     "data": {
      "image/png": "[encoded data removed]",
      "text/plain": [
       "<Figure size 432x288 with 1 Axes>"
      ]
     },
     "metadata": {
      "needs_background": "light"
     },
     "output_type": "display_data"
    }
   ],
   "source": [
    "fig = plt.figure()\n",
    "ax = fig.add_subplot(1, 1, 1)\n",
    "\n",
    "sns.violinplot(data=Tongue_Jaw_Corr, inner = None, linewidth = 0, color=\"0.9\", width = 0.5)\n",
    "sns.swarmplot(data=Tongue_Jaw_Corr, size = 1)"
   ]
  },
  {
   "cell_type": "markdown",
   "metadata": {},
   "source": []
  },
  {
   "cell_type": "markdown",
   "metadata": {},
   "source": []
  },
  {
   "cell_type": "code",
   "execution_count": 34,
   "metadata": {},
   "outputs": [],
   "source": [
    "globals().clear()\n",
    "locals().clear()"
   ]
  },
  {
   "cell_type": "code",
   "execution_count": null,
   "metadata": {},
   "outputs": [],
   "source": [
    "%reset"
   ]
  }
 ],
 "metadata": {
  "kernelspec": {
   "display_name": "Python 3.7.12 ('python37')",
   "language": "python",
   "name": "python3"
  },
  "language_info": {
   "codemirror_mode": {
    "name": "ipython",
    "version": 3
   },
   "file_extension": ".py",
   "mimetype": "text/x-python",
   "name": "python",
   "nbconvert_exporter": "python",
   "pygments_lexer": "ipython3",
   "version": "3.7.12"
  },
  "orig_nbformat": 4,
  "vscode": {
   "interpreter": {
    "hash": "88d363f1ad642379c3fae8d15a599fd61bb18d66d7eda141a2ed00acc6515594"
   }
  }
 },
 "nbformat": 4,
 "nbformat_minor": 2
}
